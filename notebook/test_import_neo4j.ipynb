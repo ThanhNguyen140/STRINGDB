{
 "cells": [
  {
   "cell_type": "markdown",
   "metadata": {},
   "source": [
    "# Import data to Neo4j"
   ]
  },
  {
   "cell_type": "markdown",
   "metadata": {},
   "source": [
    "## Create Database"
   ]
  },
  {
   "cell_type": "code",
   "execution_count": 1,
   "metadata": {},
   "outputs": [],
   "source": [
    "from stringdb.import_Neo4j import import_data as impd\n",
    "from stringdb.manager import Database"
   ]
  },
  {
   "cell_type": "code",
   "execution_count": 2,
   "metadata": {},
   "outputs": [],
   "source": [
    "db = Database(\"../tests/data/stringdb.sqlite\")"
   ]
  },
  {
   "cell_type": "code",
   "execution_count": 3,
   "metadata": {},
   "outputs": [
    {
     "name": "stdout",
     "output_type": "stream",
     "text": [
      "2024-03-28 10:16:21,955 INFO sqlalchemy.engine.Engine BEGIN (implicit)\n",
      "2024-03-28 10:16:21,956 INFO sqlalchemy.engine.Engine PRAGMA main.table_info(\"protein\")\n",
      "2024-03-28 10:16:21,956 INFO sqlalchemy.engine.Engine [raw sql] ()\n",
      "2024-03-28 10:16:21,957 INFO sqlalchemy.engine.Engine PRAGMA main.table_info(\"interaction\")\n",
      "2024-03-28 10:16:21,958 INFO sqlalchemy.engine.Engine [raw sql] ()\n",
      "2024-03-28 10:16:21,958 INFO sqlalchemy.engine.Engine \n",
      "DROP TABLE interaction\n",
      "2024-03-28 10:16:21,959 INFO sqlalchemy.engine.Engine [no key 0.00022s] ()\n",
      "2024-03-28 10:16:21,960 INFO sqlalchemy.engine.Engine \n",
      "DROP TABLE protein\n",
      "2024-03-28 10:16:21,960 INFO sqlalchemy.engine.Engine [no key 0.00028s] ()\n",
      "2024-03-28 10:16:21,961 INFO sqlalchemy.engine.Engine COMMIT\n",
      "2024-03-28 10:16:21,961 INFO sqlalchemy.engine.Engine BEGIN (implicit)\n",
      "2024-03-28 10:16:21,961 INFO sqlalchemy.engine.Engine PRAGMA main.table_info(\"protein\")\n",
      "2024-03-28 10:16:21,962 INFO sqlalchemy.engine.Engine [raw sql] ()\n",
      "2024-03-28 10:16:21,962 INFO sqlalchemy.engine.Engine PRAGMA temp.table_info(\"protein\")\n",
      "2024-03-28 10:16:21,962 INFO sqlalchemy.engine.Engine [raw sql] ()\n",
      "2024-03-28 10:16:21,963 INFO sqlalchemy.engine.Engine PRAGMA main.table_info(\"interaction\")\n",
      "2024-03-28 10:16:21,964 INFO sqlalchemy.engine.Engine [raw sql] ()\n",
      "2024-03-28 10:16:21,964 INFO sqlalchemy.engine.Engine PRAGMA temp.table_info(\"interaction\")\n",
      "2024-03-28 10:16:21,965 INFO sqlalchemy.engine.Engine [raw sql] ()\n",
      "2024-03-28 10:16:21,966 INFO sqlalchemy.engine.Engine \n",
      "CREATE TABLE protein (\n",
      "\tid INTEGER NOT NULL, \n",
      "\tstring_protein_id VARCHAR NOT NULL, \n",
      "\t\"uniprot_AC\" VARCHAR NOT NULL, \n",
      "\tPRIMARY KEY (id)\n",
      ")\n",
      "\n",
      "\n",
      "2024-03-28 10:16:21,967 INFO sqlalchemy.engine.Engine [no key 0.00106s] ()\n",
      "2024-03-28 10:16:21,969 INFO sqlalchemy.engine.Engine \n",
      "CREATE TABLE interaction (\n",
      "\tid INTEGER NOT NULL, \n",
      "\tprotein1 INTEGER NOT NULL, \n",
      "\tprotein2 INTEGER NOT NULL, \n",
      "\tneighborhood INTEGER NOT NULL, \n",
      "\tcooccurence INTEGER NOT NULL, \n",
      "\thomology INTEGER NOT NULL, \n",
      "\tcoexpression INTEGER NOT NULL, \n",
      "\tcombined_score INTEGER NOT NULL, \n",
      "\tPRIMARY KEY (id), \n",
      "\tFOREIGN KEY(protein1) REFERENCES protein (id), \n",
      "\tFOREIGN KEY(protein2) REFERENCES protein (id)\n",
      ")\n",
      "\n",
      "\n",
      "2024-03-28 10:16:21,970 INFO sqlalchemy.engine.Engine [no key 0.00049s] ()\n",
      "2024-03-28 10:16:21,971 INFO sqlalchemy.engine.Engine COMMIT\n"
     ]
    }
   ],
   "source": [
    "db.recreate_database()"
   ]
  },
  {
   "cell_type": "code",
   "execution_count": 4,
   "metadata": {},
   "outputs": [
    {
     "name": "stderr",
     "output_type": "stream",
     "text": [
      "100%|██████████| 2/2 [00:00<00:00, 350.75it/s]"
     ]
    },
    {
     "name": "stdout",
     "output_type": "stream",
     "text": [
      "2024-03-28 10:16:22,060 INFO sqlalchemy.engine.Engine BEGIN (implicit)\n",
      "2024-03-28 10:16:22,062 INFO sqlalchemy.engine.Engine INSERT INTO protein (string_protein_id, \"uniprot_AC\") VALUES (?, ?) RETURNING id\n",
      "2024-03-28 10:16:22,062 INFO sqlalchemy.engine.Engine [generated in 0.00011s (insertmanyvalues) 1/10 (ordered; batch not supported)] ('3750.A0A067XNN6', 'A0A067XNN6')\n",
      "2024-03-28 10:16:22,063 INFO sqlalchemy.engine.Engine INSERT INTO protein (string_protein_id, \"uniprot_AC\") VALUES (?, ?) RETURNING id\n",
      "2024-03-28 10:16:22,063 INFO sqlalchemy.engine.Engine [insertmanyvalues 2/10 (ordered; batch not supported)] ('3750.A0A076JU24', 'A0A076JU24')\n",
      "2024-03-28 10:16:22,064 INFO sqlalchemy.engine.Engine INSERT INTO protein (string_protein_id, \"uniprot_AC\") VALUES (?, ?) RETURNING id\n",
      "2024-03-28 10:16:22,064 INFO sqlalchemy.engine.Engine [insertmanyvalues 3/10 (ordered; batch not supported)] ('3750.A0A076JVE4', 'A0A076JVE4')\n",
      "2024-03-28 10:16:22,065 INFO sqlalchemy.engine.Engine INSERT INTO protein (string_protein_id, \"uniprot_AC\") VALUES (?, ?) RETURNING id\n",
      "2024-03-28 10:16:22,065 INFO sqlalchemy.engine.Engine [insertmanyvalues 4/10 (ordered; batch not supported)] ('3750.A0A076JYZ8', 'A0A076JYZ8')\n",
      "2024-03-28 10:16:22,065 INFO sqlalchemy.engine.Engine INSERT INTO protein (string_protein_id, \"uniprot_AC\") VALUES (?, ?) RETURNING id\n",
      "2024-03-28 10:16:22,065 INFO sqlalchemy.engine.Engine [insertmanyvalues 5/10 (ordered; batch not supported)] ('3750.A0A076K094', 'A0A076K094')\n",
      "2024-03-28 10:16:22,066 INFO sqlalchemy.engine.Engine INSERT INTO protein (string_protein_id, \"uniprot_AC\") VALUES (?, ?) RETURNING id\n",
      "2024-03-28 10:16:22,066 INFO sqlalchemy.engine.Engine [insertmanyvalues 6/10 (ordered; batch not supported)] ('3750.A0A097IC86', 'A0A097IC86')\n",
      "2024-03-28 10:16:22,066 INFO sqlalchemy.engine.Engine INSERT INTO protein (string_protein_id, \"uniprot_AC\") VALUES (?, ?) RETURNING id\n",
      "2024-03-28 10:16:22,067 INFO sqlalchemy.engine.Engine [insertmanyvalues 7/10 (ordered; batch not supported)] ('3750.A0A0G2QRR5', 'A0A0G2QRR5')\n",
      "2024-03-28 10:16:22,067 INFO sqlalchemy.engine.Engine INSERT INTO protein (string_protein_id, \"uniprot_AC\") VALUES (?, ?) RETURNING id\n",
      "2024-03-28 10:16:22,068 INFO sqlalchemy.engine.Engine [insertmanyvalues 8/10 (ordered; batch not supported)] ('3750.A0A0G2QRY1', 'A0A0G2QRY1')\n",
      "2024-03-28 10:16:22,068 INFO sqlalchemy.engine.Engine INSERT INTO protein (string_protein_id, \"uniprot_AC\") VALUES (?, ?) RETURNING id\n",
      "2024-03-28 10:16:22,068 INFO sqlalchemy.engine.Engine [insertmanyvalues 9/10 (ordered; batch not supported)] ('3750.A0A0M3R7K5', 'A0A0M3R7K5')\n",
      "2024-03-28 10:16:22,069 INFO sqlalchemy.engine.Engine INSERT INTO protein (string_protein_id, \"uniprot_AC\") VALUES (?, ?) RETURNING id\n",
      "2024-03-28 10:16:22,069 INFO sqlalchemy.engine.Engine [insertmanyvalues 10/10 (ordered; batch not supported)] ('3750.A0A0M3UKA9', 'A0A0M3UKA9')\n",
      "2024-03-28 10:16:22,071 INFO sqlalchemy.engine.Engine SELECT protein.id AS protein_id, protein.string_protein_id AS protein_string_protein_id, protein.\"uniprot_AC\" AS \"protein_uniprot_AC\" \n",
      "FROM protein \n",
      "WHERE protein.string_protein_id = ?\n",
      " LIMIT ? OFFSET ?\n",
      "2024-03-28 10:16:22,071 INFO sqlalchemy.engine.Engine [generated in 0.00049s] ('3750.A0A076JVE4', 1, 0)\n",
      "2024-03-28 10:16:22,072 INFO sqlalchemy.engine.Engine SELECT protein.id AS protein_id, protein.string_protein_id AS protein_string_protein_id, protein.\"uniprot_AC\" AS \"protein_uniprot_AC\" \n",
      "FROM protein \n",
      "WHERE protein.string_protein_id = ?\n",
      " LIMIT ? OFFSET ?\n",
      "2024-03-28 10:16:22,073 INFO sqlalchemy.engine.Engine [cached since 0.001703s ago] ('3750.A0A097IC86', 1, 0)\n",
      "2024-03-28 10:16:22,074 INFO sqlalchemy.engine.Engine INSERT INTO interaction (protein1, protein2, neighborhood, cooccurence, homology, coexpression, combined_score) VALUES (?, ?, ?, ?, ?, ?, ?)\n",
      "2024-03-28 10:16:22,074 INFO sqlalchemy.engine.Engine [generated in 0.00037s] (3, 6, 0, 0, 0, 0, 174)\n",
      "2024-03-28 10:16:22,075 INFO sqlalchemy.engine.Engine SELECT protein.id AS protein_id, protein.string_protein_id AS protein_string_protein_id, protein.\"uniprot_AC\" AS \"protein_uniprot_AC\" \n",
      "FROM protein \n",
      "WHERE protein.string_protein_id = ?\n",
      " LIMIT ? OFFSET ?\n",
      "2024-03-28 10:16:22,075 INFO sqlalchemy.engine.Engine [cached since 0.004437s ago] ('3750.A0A097IC86', 1, 0)\n",
      "2024-03-28 10:16:22,076 INFO sqlalchemy.engine.Engine SELECT protein.id AS protein_id, protein.string_protein_id AS protein_string_protein_id, protein.\"uniprot_AC\" AS \"protein_uniprot_AC\" \n",
      "FROM protein \n",
      "WHERE protein.string_protein_id = ?\n",
      " LIMIT ? OFFSET ?\n",
      "2024-03-28 10:16:22,076 INFO sqlalchemy.engine.Engine [cached since 0.005229s ago] ('3750.A0A0M3R7K5', 1, 0)\n",
      "2024-03-28 10:16:22,077 INFO sqlalchemy.engine.Engine INSERT INTO interaction (protein1, protein2, neighborhood, cooccurence, homology, coexpression, combined_score) VALUES (?, ?, ?, ?, ?, ?, ?)\n",
      "2024-03-28 10:16:22,077 INFO sqlalchemy.engine.Engine [cached since 0.003126s ago] (6, 9, 0, 177, 595, 0, 213)\n",
      "2024-03-28 10:16:22,077 INFO sqlalchemy.engine.Engine COMMIT\n"
     ]
    },
    {
     "name": "stderr",
     "output_type": "stream",
     "text": [
      "\n"
     ]
    }
   ],
   "source": [
    "db.add_data(\"../tests/data\")"
   ]
  },
  {
   "cell_type": "markdown",
   "metadata": {},
   "source": [
    "## Create turtle file"
   ]
  },
  {
   "cell_type": "code",
   "execution_count": 5,
   "metadata": {},
   "outputs": [],
   "source": [
    "imp = impd(\"../tests/data/stringdb.sqlite\",\"../tests/data/stringdb.ttl\")"
   ]
  },
  {
   "cell_type": "code",
   "execution_count": 6,
   "metadata": {},
   "outputs": [
    {
     "name": "stdout",
     "output_type": "stream",
     "text": [
      "2024-03-28 10:16:22,092 INFO sqlalchemy.engine.Engine BEGIN (implicit)\n",
      "2024-03-28 10:16:22,093 INFO sqlalchemy.engine.Engine SELECT interaction.id, interaction.protein1, interaction.protein2, interaction.neighborhood, interaction.cooccurence, interaction.homology, interaction.coexpression, interaction.combined_score \n",
      "FROM interaction \n",
      "WHERE interaction.combined_score >= ? AND interaction.homology >= ? AND interaction.coexpression >= ? AND interaction.cooccurence >= ? AND interaction.neighborhood >= ?\n",
      "2024-03-28 10:16:22,094 INFO sqlalchemy.engine.Engine [generated in 0.00049s] (0, 0, 0, 0, 0)\n",
      "2024-03-28 10:16:22,095 INFO sqlalchemy.engine.Engine SELECT protein.\"uniprot_AC\" \n",
      "FROM protein \n",
      "WHERE protein.id = ?\n",
      "2024-03-28 10:16:22,096 INFO sqlalchemy.engine.Engine [generated in 0.00048s] (3,)\n",
      "2024-03-28 10:16:22,097 INFO sqlalchemy.engine.Engine SELECT protein.\"uniprot_AC\" \n",
      "FROM protein \n",
      "WHERE protein.id = ?\n",
      "2024-03-28 10:16:22,097 INFO sqlalchemy.engine.Engine [cached since 0.001772s ago] (6,)\n",
      "2024-03-28 10:16:22,098 INFO sqlalchemy.engine.Engine SELECT protein.\"uniprot_AC\" \n",
      "FROM protein \n",
      "WHERE protein.id = ?\n",
      "2024-03-28 10:16:22,098 INFO sqlalchemy.engine.Engine [cached since 0.002631s ago] (6,)\n",
      "2024-03-28 10:16:22,098 INFO sqlalchemy.engine.Engine SELECT protein.\"uniprot_AC\" \n",
      "FROM protein \n",
      "WHERE protein.id = ?\n",
      "2024-03-28 10:16:22,099 INFO sqlalchemy.engine.Engine [cached since 0.003684s ago] (9,)\n",
      "Finished creating ttl files\n"
     ]
    }
   ],
   "source": [
    "imp.create_ttl()"
   ]
  },
  {
   "cell_type": "markdown",
   "metadata": {},
   "source": [
    "## Create nodes and connection in Neo4j"
   ]
  },
  {
   "cell_type": "code",
   "execution_count": 7,
   "metadata": {},
   "outputs": [
    {
     "name": "stdout",
     "output_type": "stream",
     "text": [
      "Uniqueness constraint on :Resource(uri) found. \n",
      "                \n",
      "                \n",
      "IMPORTED 18 TRIPLES\n"
     ]
    }
   ],
   "source": [
    "imp.to_neo4j(clear = True)"
   ]
  },
  {
   "cell_type": "code",
   "execution_count": 23,
   "metadata": {},
   "outputs": [],
   "source": [
    "from stringdb.import_Neo4j import *\n",
    "URI = \"neo4j://localhost:7687\"\n",
    "USER = \"neo4j\"\n",
    "PWD = \"neo4j_passwd\"\n",
    "driver = GraphDatabase.driver(URI, auth=(USER, PWD))\n",
    "with driver.session() as session:    \n",
    "    cypher = \"MATCH (n:interaction) RETURN count(n) AS nodeCount\"\n",
    "    result = session.run(cypher).single()"
   ]
  },
  {
   "cell_type": "code",
   "execution_count": 24,
   "metadata": {},
   "outputs": [
    {
     "data": {
      "text/plain": [
       "2"
      ]
     },
     "execution_count": 24,
     "metadata": {},
     "output_type": "execute_result"
    }
   ],
   "source": [
    "result[\"nodeCount\"]"
   ]
  },
  {
   "cell_type": "code",
   "execution_count": null,
   "metadata": {},
   "outputs": [],
   "source": []
  }
 ],
 "metadata": {
  "kernelspec": {
   "display_name": ".venv",
   "language": "python",
   "name": "python3"
  },
  "language_info": {
   "codemirror_mode": {
    "name": "ipython",
    "version": 3
   },
   "file_extension": ".py",
   "mimetype": "text/x-python",
   "name": "python",
   "nbconvert_exporter": "python",
   "pygments_lexer": "ipython3",
   "version": "3.11.6"
  }
 },
 "nbformat": 4,
 "nbformat_minor": 2
}
