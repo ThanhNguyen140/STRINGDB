{
 "cells": [
  {
   "cell_type": "code",
   "execution_count": 1,
   "metadata": {},
   "outputs": [],
   "source": [
    "from test_project_thanh2.import_Neo4j import import_data as impd\n",
    "from test_project_thanh2.manager import Database"
   ]
  },
  {
   "cell_type": "code",
   "execution_count": 2,
   "metadata": {},
   "outputs": [],
   "source": [
    "db = Database(\"../tests/data/stringdb.sqlite\")"
   ]
  },
  {
   "cell_type": "code",
   "execution_count": 3,
   "metadata": {},
   "outputs": [
    {
     "name": "stdout",
     "output_type": "stream",
     "text": [
      "2024-03-25 11:27:39,542 INFO sqlalchemy.engine.Engine BEGIN (implicit)\n",
      "2024-03-25 11:27:39,543 INFO sqlalchemy.engine.Engine PRAGMA main.table_info(\"protein\")\n",
      "2024-03-25 11:27:39,543 INFO sqlalchemy.engine.Engine [raw sql] ()\n",
      "2024-03-25 11:27:39,544 INFO sqlalchemy.engine.Engine PRAGMA temp.table_info(\"protein\")\n",
      "2024-03-25 11:27:39,545 INFO sqlalchemy.engine.Engine [raw sql] ()\n",
      "2024-03-25 11:27:39,546 INFO sqlalchemy.engine.Engine PRAGMA main.table_info(\"interaction\")\n",
      "2024-03-25 11:27:39,546 INFO sqlalchemy.engine.Engine [raw sql] ()\n",
      "2024-03-25 11:27:39,547 INFO sqlalchemy.engine.Engine PRAGMA temp.table_info(\"interaction\")\n",
      "2024-03-25 11:27:39,547 INFO sqlalchemy.engine.Engine [raw sql] ()\n",
      "2024-03-25 11:27:39,548 INFO sqlalchemy.engine.Engine \n",
      "CREATE TABLE protein (\n",
      "\tid INTEGER NOT NULL, \n",
      "\tstring_protein_id VARCHAR NOT NULL, \n",
      "\t\"uniprot_AC\" VARCHAR NOT NULL, \n",
      "\tPRIMARY KEY (id)\n",
      ")\n",
      "\n",
      "\n",
      "2024-03-25 11:27:39,548 INFO sqlalchemy.engine.Engine [no key 0.00037s] ()\n",
      "2024-03-25 11:27:39,550 INFO sqlalchemy.engine.Engine \n",
      "CREATE TABLE interaction (\n",
      "\tid INTEGER NOT NULL, \n",
      "\tprotein1 INTEGER NOT NULL, \n",
      "\tprotein2 INTEGER NOT NULL, \n",
      "\tneighborhood INTEGER NOT NULL, \n",
      "\tcooccurence INTEGER NOT NULL, \n",
      "\thomology INTEGER NOT NULL, \n",
      "\tcoexpression INTEGER NOT NULL, \n",
      "\tcombined_score INTEGER NOT NULL, \n",
      "\tPRIMARY KEY (id), \n",
      "\tFOREIGN KEY(protein1) REFERENCES protein (id), \n",
      "\tFOREIGN KEY(protein2) REFERENCES protein (id)\n",
      ")\n",
      "\n",
      "\n",
      "2024-03-25 11:27:39,551 INFO sqlalchemy.engine.Engine [no key 0.00101s] ()\n",
      "2024-03-25 11:27:39,553 INFO sqlalchemy.engine.Engine COMMIT\n"
     ]
    }
   ],
   "source": [
    "db.create_database()"
   ]
  },
  {
   "cell_type": "code",
   "execution_count": 4,
   "metadata": {},
   "outputs": [
    {
     "name": "stderr",
     "output_type": "stream",
     "text": [
      "  0%|          | 0/2 [00:00<?, ?it/s]"
     ]
    },
    {
     "name": "stderr",
     "output_type": "stream",
     "text": [
      "100%|██████████| 2/2 [00:00<00:00, 202.00it/s]"
     ]
    },
    {
     "name": "stdout",
     "output_type": "stream",
     "text": [
      "2024-03-25 11:27:48,318 INFO sqlalchemy.engine.Engine BEGIN (implicit)\n",
      "2024-03-25 11:27:48,320 INFO sqlalchemy.engine.Engine INSERT INTO protein (string_protein_id, \"uniprot_AC\") VALUES (?, ?) RETURNING id\n",
      "2024-03-25 11:27:48,320 INFO sqlalchemy.engine.Engine [generated in 0.00014s (insertmanyvalues) 1/10 (ordered; batch not supported)] ('3750.A0A067XNN6', 'A0A067XNN6')\n",
      "2024-03-25 11:27:48,322 INFO sqlalchemy.engine.Engine INSERT INTO protein (string_protein_id, \"uniprot_AC\") VALUES (?, ?) RETURNING id\n",
      "2024-03-25 11:27:48,323 INFO sqlalchemy.engine.Engine [insertmanyvalues 2/10 (ordered; batch not supported)] ('3750.A0A076JU24', 'A0A076JU24')\n",
      "2024-03-25 11:27:48,323 INFO sqlalchemy.engine.Engine INSERT INTO protein (string_protein_id, \"uniprot_AC\") VALUES (?, ?) RETURNING id\n",
      "2024-03-25 11:27:48,324 INFO sqlalchemy.engine.Engine [insertmanyvalues 3/10 (ordered; batch not supported)] ('3750.A0A076JVE4', 'A0A076JVE4')\n",
      "2024-03-25 11:27:48,325 INFO sqlalchemy.engine.Engine INSERT INTO protein (string_protein_id, \"uniprot_AC\") VALUES (?, ?) RETURNING id\n",
      "2024-03-25 11:27:48,325 INFO sqlalchemy.engine.Engine [insertmanyvalues 4/10 (ordered; batch not supported)] ('3750.A0A076JYZ8', 'A0A076JYZ8')\n",
      "2024-03-25 11:27:48,327 INFO sqlalchemy.engine.Engine INSERT INTO protein (string_protein_id, \"uniprot_AC\") VALUES (?, ?) RETURNING id\n",
      "2024-03-25 11:27:48,327 INFO sqlalchemy.engine.Engine [insertmanyvalues 5/10 (ordered; batch not supported)] ('3750.A0A076K094', 'A0A076K094')\n",
      "2024-03-25 11:27:48,328 INFO sqlalchemy.engine.Engine INSERT INTO protein (string_protein_id, \"uniprot_AC\") VALUES (?, ?) RETURNING id\n",
      "2024-03-25 11:27:48,328 INFO sqlalchemy.engine.Engine [insertmanyvalues 6/10 (ordered; batch not supported)] ('3750.A0A097IC86', 'A0A097IC86')\n",
      "2024-03-25 11:27:48,329 INFO sqlalchemy.engine.Engine INSERT INTO protein (string_protein_id, \"uniprot_AC\") VALUES (?, ?) RETURNING id\n",
      "2024-03-25 11:27:48,329 INFO sqlalchemy.engine.Engine [insertmanyvalues 7/10 (ordered; batch not supported)] ('3750.A0A0G2QRR5', 'A0A0G2QRR5')\n",
      "2024-03-25 11:27:48,329 INFO sqlalchemy.engine.Engine INSERT INTO protein (string_protein_id, \"uniprot_AC\") VALUES (?, ?) RETURNING id\n",
      "2024-03-25 11:27:48,330 INFO sqlalchemy.engine.Engine [insertmanyvalues 8/10 (ordered; batch not supported)] ('3750.A0A0G2QRY1', 'A0A0G2QRY1')\n",
      "2024-03-25 11:27:48,330 INFO sqlalchemy.engine.Engine INSERT INTO protein (string_protein_id, \"uniprot_AC\") VALUES (?, ?) RETURNING id\n",
      "2024-03-25 11:27:48,330 INFO sqlalchemy.engine.Engine [insertmanyvalues 9/10 (ordered; batch not supported)] ('3750.A0A0M3R7K5', 'A0A0M3R7K5')\n",
      "2024-03-25 11:27:48,331 INFO sqlalchemy.engine.Engine INSERT INTO protein (string_protein_id, \"uniprot_AC\") VALUES (?, ?) RETURNING id\n",
      "2024-03-25 11:27:48,331 INFO sqlalchemy.engine.Engine [insertmanyvalues 10/10 (ordered; batch not supported)] ('3750.A0A0M3UKA9', 'A0A0M3UKA9')\n",
      "2024-03-25 11:27:48,333 INFO sqlalchemy.engine.Engine SELECT protein.id AS protein_id, protein.string_protein_id AS protein_string_protein_id, protein.\"uniprot_AC\" AS \"protein_uniprot_AC\" \n",
      "FROM protein \n",
      "WHERE protein.string_protein_id = ?\n",
      " LIMIT ? OFFSET ?\n",
      "2024-03-25 11:27:48,334 INFO sqlalchemy.engine.Engine [generated in 0.00091s] ('3750.A0A076JVE4', 1, 0)\n",
      "2024-03-25 11:27:48,336 INFO sqlalchemy.engine.Engine SELECT protein.id AS protein_id, protein.string_protein_id AS protein_string_protein_id, protein.\"uniprot_AC\" AS \"protein_uniprot_AC\" \n",
      "FROM protein \n",
      "WHERE protein.string_protein_id = ?\n",
      " LIMIT ? OFFSET ?\n",
      "2024-03-25 11:27:48,336 INFO sqlalchemy.engine.Engine [cached since 0.002933s ago] ('3750.A0A097IC86', 1, 0)\n",
      "2024-03-25 11:27:48,338 INFO sqlalchemy.engine.Engine INSERT INTO interaction (protein1, protein2, neighborhood, cooccurence, homology, coexpression, combined_score) VALUES (?, ?, ?, ?, ?, ?, ?)\n",
      "2024-03-25 11:27:48,338 INFO sqlalchemy.engine.Engine [generated in 0.00039s] (3, 6, 0, 0, 0, 0, 174)\n",
      "2024-03-25 11:27:48,339 INFO sqlalchemy.engine.Engine SELECT protein.id AS protein_id, protein.string_protein_id AS protein_string_protein_id, protein.\"uniprot_AC\" AS \"protein_uniprot_AC\" \n",
      "FROM protein \n",
      "WHERE protein.string_protein_id = ?\n",
      " LIMIT ? OFFSET ?\n",
      "2024-03-25 11:27:48,339 INFO sqlalchemy.engine.Engine [cached since 0.005996s ago] ('3750.A0A097IC86', 1, 0)\n",
      "2024-03-25 11:27:48,340 INFO sqlalchemy.engine.Engine SELECT protein.id AS protein_id, protein.string_protein_id AS protein_string_protein_id, protein.\"uniprot_AC\" AS \"protein_uniprot_AC\" \n",
      "FROM protein \n",
      "WHERE protein.string_protein_id = ?\n",
      " LIMIT ? OFFSET ?\n",
      "2024-03-25 11:27:48,340 INFO sqlalchemy.engine.Engine [cached since 0.006919s ago] ('3750.A0A0M3R7K5', 1, 0)\n",
      "2024-03-25 11:27:48,341 INFO sqlalchemy.engine.Engine INSERT INTO interaction (protein1, protein2, neighborhood, cooccurence, homology, coexpression, combined_score) VALUES (?, ?, ?, ?, ?, ?, ?)\n",
      "2024-03-25 11:27:48,341 INFO sqlalchemy.engine.Engine [cached since 0.003364s ago] (6, 9, 0, 177, 595, 0, 213)\n",
      "2024-03-25 11:27:48,342 INFO sqlalchemy.engine.Engine COMMIT\n"
     ]
    },
    {
     "name": "stderr",
     "output_type": "stream",
     "text": [
      "\n"
     ]
    }
   ],
   "source": [
    "db.add_data(\"../tests/data\")"
   ]
  },
  {
   "cell_type": "code",
   "execution_count": 2,
   "metadata": {},
   "outputs": [],
   "source": [
    "imp = impd(\"../tests/data/stringdb.sqlite\",\"../tests/data/stringdb.ttl\")"
   ]
  },
  {
   "cell_type": "code",
   "execution_count": 3,
   "metadata": {},
   "outputs": [
    {
     "name": "stdout",
     "output_type": "stream",
     "text": [
      "2024-03-25 14:42:29,728 INFO sqlalchemy.engine.Engine BEGIN (implicit)\n",
      "2024-03-25 14:42:29,733 INFO sqlalchemy.engine.Engine SELECT interaction.id, interaction.protein1, interaction.protein2, interaction.neighborhood, interaction.cooccurence, interaction.homology, interaction.coexpression, interaction.combined_score \n",
      "FROM interaction \n",
      "WHERE interaction.combined_score >= ? AND interaction.homology >= ? AND interaction.coexpression >= ? AND interaction.cooccurence >= ? AND interaction.neighborhood >= ?\n",
      "2024-03-25 14:42:29,734 INFO sqlalchemy.engine.Engine [generated in 0.00072s] (0, 0, 0, 0, 0)\n",
      "2024-03-25 14:42:29,736 INFO sqlalchemy.engine.Engine SELECT protein.\"uniprot_AC\" \n",
      "FROM protein \n",
      "WHERE protein.id = ?\n",
      "2024-03-25 14:42:29,736 INFO sqlalchemy.engine.Engine [generated in 0.00042s] (3,)\n",
      "2024-03-25 14:42:29,737 INFO sqlalchemy.engine.Engine SELECT protein.\"uniprot_AC\" \n",
      "FROM protein \n",
      "WHERE protein.id = ?\n",
      "2024-03-25 14:42:29,738 INFO sqlalchemy.engine.Engine [cached since 0.002222s ago] (6,)\n",
      "2024-03-25 14:42:29,739 INFO sqlalchemy.engine.Engine SELECT protein.\"uniprot_AC\" \n",
      "FROM protein \n",
      "WHERE protein.id = ?\n",
      "2024-03-25 14:42:29,739 INFO sqlalchemy.engine.Engine [cached since 0.003598s ago] (6,)\n",
      "2024-03-25 14:42:29,740 INFO sqlalchemy.engine.Engine SELECT protein.\"uniprot_AC\" \n",
      "FROM protein \n",
      "WHERE protein.id = ?\n",
      "2024-03-25 14:42:29,740 INFO sqlalchemy.engine.Engine [cached since 0.004762s ago] (9,)\n",
      "Finished creating ttl files\n"
     ]
    }
   ],
   "source": [
    "imp.create_ttl()"
   ]
  },
  {
   "cell_type": "code",
   "execution_count": 3,
   "metadata": {},
   "outputs": [
    {
     "name": "stdout",
     "output_type": "stream",
     "text": [
      "Uniqueness constraint on :Resource(uri) found. \n",
      "                \n",
      "                \n",
      "IMPORTED 18 TRIPLES\n"
     ]
    }
   ],
   "source": [
    "imp.to_neo4j(clear = True)"
   ]
  },
  {
   "cell_type": "code",
   "execution_count": null,
   "metadata": {},
   "outputs": [],
   "source": []
  }
 ],
 "metadata": {
  "kernelspec": {
   "display_name": ".venv",
   "language": "python",
   "name": "python3"
  },
  "language_info": {
   "codemirror_mode": {
    "name": "ipython",
    "version": 3
   },
   "file_extension": ".py",
   "mimetype": "text/x-python",
   "name": "python",
   "nbconvert_exporter": "python",
   "pygments_lexer": "ipython3",
   "version": "3.11.6"
  }
 },
 "nbformat": 4,
 "nbformat_minor": 2
}
