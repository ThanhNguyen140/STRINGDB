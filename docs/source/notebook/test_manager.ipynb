{
 "cells": [
  {
   "cell_type": "markdown",
   "metadata": {},
   "source": [
    "## Create Database"
   ]
  },
  {
   "cell_type": "code",
   "execution_count": 1,
   "metadata": {},
   "outputs": [],
   "source": [
    "from stringdb.manager import Database\n",
    "from sqlalchemy import inspect"
   ]
  },
  {
   "cell_type": "code",
   "execution_count": 2,
   "metadata": {},
   "outputs": [
    {
     "name": "stdout",
     "output_type": "stream",
     "text": [
      "2024-03-26 09:51:19,716 INFO sqlalchemy.engine.Engine BEGIN (implicit)\n",
      "2024-03-26 09:51:19,717 INFO sqlalchemy.engine.Engine PRAGMA main.table_info(\"protein\")\n",
      "2024-03-26 09:51:19,717 INFO sqlalchemy.engine.Engine [raw sql] ()\n",
      "2024-03-26 09:51:19,718 INFO sqlalchemy.engine.Engine PRAGMA temp.table_info(\"protein\")\n",
      "2024-03-26 09:51:19,718 INFO sqlalchemy.engine.Engine [raw sql] ()\n",
      "2024-03-26 09:51:19,719 INFO sqlalchemy.engine.Engine PRAGMA main.table_info(\"interaction\")\n",
      "2024-03-26 09:51:19,719 INFO sqlalchemy.engine.Engine [raw sql] ()\n",
      "2024-03-26 09:51:19,719 INFO sqlalchemy.engine.Engine PRAGMA temp.table_info(\"interaction\")\n",
      "2024-03-26 09:51:19,720 INFO sqlalchemy.engine.Engine [raw sql] ()\n",
      "2024-03-26 09:51:19,720 INFO sqlalchemy.engine.Engine COMMIT\n",
      "2024-03-26 09:51:19,720 INFO sqlalchemy.engine.Engine BEGIN (implicit)\n",
      "2024-03-26 09:51:19,721 INFO sqlalchemy.engine.Engine PRAGMA main.table_info(\"protein\")\n",
      "2024-03-26 09:51:19,721 INFO sqlalchemy.engine.Engine [raw sql] ()\n",
      "2024-03-26 09:51:19,722 INFO sqlalchemy.engine.Engine PRAGMA temp.table_info(\"protein\")\n",
      "2024-03-26 09:51:19,722 INFO sqlalchemy.engine.Engine [raw sql] ()\n",
      "2024-03-26 09:51:19,723 INFO sqlalchemy.engine.Engine PRAGMA main.table_info(\"interaction\")\n",
      "2024-03-26 09:51:19,724 INFO sqlalchemy.engine.Engine [raw sql] ()\n",
      "2024-03-26 09:51:19,725 INFO sqlalchemy.engine.Engine PRAGMA temp.table_info(\"interaction\")\n",
      "2024-03-26 09:51:19,725 INFO sqlalchemy.engine.Engine [raw sql] ()\n",
      "2024-03-26 09:51:19,726 INFO sqlalchemy.engine.Engine \n",
      "CREATE TABLE protein (\n",
      "\tid INTEGER NOT NULL, \n",
      "\tstring_protein_id VARCHAR NOT NULL, \n",
      "\t\"uniprot_AC\" VARCHAR NOT NULL, \n",
      "\tPRIMARY KEY (id)\n",
      ")\n",
      "\n",
      "\n",
      "2024-03-26 09:51:19,727 INFO sqlalchemy.engine.Engine [no key 0.00078s] ()\n",
      "2024-03-26 09:51:19,729 INFO sqlalchemy.engine.Engine \n",
      "CREATE TABLE interaction (\n",
      "\tid INTEGER NOT NULL, \n",
      "\tprotein1 INTEGER NOT NULL, \n",
      "\tprotein2 INTEGER NOT NULL, \n",
      "\tneighborhood INTEGER NOT NULL, \n",
      "\tcooccurence INTEGER NOT NULL, \n",
      "\thomology INTEGER NOT NULL, \n",
      "\tcoexpression INTEGER NOT NULL, \n",
      "\tcombined_score INTEGER NOT NULL, \n",
      "\tPRIMARY KEY (id), \n",
      "\tFOREIGN KEY(protein1) REFERENCES protein (id), \n",
      "\tFOREIGN KEY(protein2) REFERENCES protein (id)\n",
      ")\n",
      "\n",
      "\n",
      "2024-03-26 09:51:19,730 INFO sqlalchemy.engine.Engine [no key 0.00049s] ()\n",
      "2024-03-26 09:51:19,731 INFO sqlalchemy.engine.Engine COMMIT\n"
     ]
    },
    {
     "name": "stderr",
     "output_type": "stream",
     "text": [
      "100%|██████████| 2/2 [00:00<00:00, 355.55it/s]"
     ]
    },
    {
     "name": "stdout",
     "output_type": "stream",
     "text": [
      "2024-03-26 09:51:19,768 INFO sqlalchemy.engine.Engine BEGIN (implicit)\n",
      "2024-03-26 09:51:19,770 INFO sqlalchemy.engine.Engine INSERT INTO protein (string_protein_id, \"uniprot_AC\") VALUES (?, ?) RETURNING id\n",
      "2024-03-26 09:51:19,770 INFO sqlalchemy.engine.Engine [generated in 0.00012s (insertmanyvalues) 1/10 (ordered; batch not supported)] ('3750.A0A067XNN6', 'A0A067XNN6')\n",
      "2024-03-26 09:51:19,771 INFO sqlalchemy.engine.Engine INSERT INTO protein (string_protein_id, \"uniprot_AC\") VALUES (?, ?) RETURNING id\n",
      "2024-03-26 09:51:19,771 INFO sqlalchemy.engine.Engine [insertmanyvalues 2/10 (ordered; batch not supported)] ('3750.A0A076JU24', 'A0A076JU24')\n",
      "2024-03-26 09:51:19,772 INFO sqlalchemy.engine.Engine INSERT INTO protein (string_protein_id, \"uniprot_AC\") VALUES (?, ?) RETURNING id\n",
      "2024-03-26 09:51:19,772 INFO sqlalchemy.engine.Engine [insertmanyvalues 3/10 (ordered; batch not supported)] ('3750.A0A076JVE4', 'A0A076JVE4')\n",
      "2024-03-26 09:51:19,772 INFO sqlalchemy.engine.Engine INSERT INTO protein (string_protein_id, \"uniprot_AC\") VALUES (?, ?) RETURNING id\n",
      "2024-03-26 09:51:19,773 INFO sqlalchemy.engine.Engine [insertmanyvalues 4/10 (ordered; batch not supported)] ('3750.A0A076JYZ8', 'A0A076JYZ8')\n",
      "2024-03-26 09:51:19,773 INFO sqlalchemy.engine.Engine INSERT INTO protein (string_protein_id, \"uniprot_AC\") VALUES (?, ?) RETURNING id\n",
      "2024-03-26 09:51:19,773 INFO sqlalchemy.engine.Engine [insertmanyvalues 5/10 (ordered; batch not supported)] ('3750.A0A076K094', 'A0A076K094')\n",
      "2024-03-26 09:51:19,774 INFO sqlalchemy.engine.Engine INSERT INTO protein (string_protein_id, \"uniprot_AC\") VALUES (?, ?) RETURNING id\n",
      "2024-03-26 09:51:19,774 INFO sqlalchemy.engine.Engine [insertmanyvalues 6/10 (ordered; batch not supported)] ('3750.A0A097IC86', 'A0A097IC86')\n",
      "2024-03-26 09:51:19,774 INFO sqlalchemy.engine.Engine INSERT INTO protein (string_protein_id, \"uniprot_AC\") VALUES (?, ?) RETURNING id\n",
      "2024-03-26 09:51:19,774 INFO sqlalchemy.engine.Engine [insertmanyvalues 7/10 (ordered; batch not supported)] ('3750.A0A0G2QRR5', 'A0A0G2QRR5')\n",
      "2024-03-26 09:51:19,775 INFO sqlalchemy.engine.Engine INSERT INTO protein (string_protein_id, \"uniprot_AC\") VALUES (?, ?) RETURNING id\n",
      "2024-03-26 09:51:19,775 INFO sqlalchemy.engine.Engine [insertmanyvalues 8/10 (ordered; batch not supported)] ('3750.A0A0G2QRY1', 'A0A0G2QRY1')\n",
      "2024-03-26 09:51:19,775 INFO sqlalchemy.engine.Engine INSERT INTO protein (string_protein_id, \"uniprot_AC\") VALUES (?, ?) RETURNING id\n",
      "2024-03-26 09:51:19,776 INFO sqlalchemy.engine.Engine [insertmanyvalues 9/10 (ordered; batch not supported)] ('3750.A0A0M3R7K5', 'A0A0M3R7K5')\n",
      "2024-03-26 09:51:19,776 INFO sqlalchemy.engine.Engine INSERT INTO protein (string_protein_id, \"uniprot_AC\") VALUES (?, ?) RETURNING id\n",
      "2024-03-26 09:51:19,776 INFO sqlalchemy.engine.Engine [insertmanyvalues 10/10 (ordered; batch not supported)] ('3750.A0A0M3UKA9', 'A0A0M3UKA9')\n",
      "2024-03-26 09:51:19,779 INFO sqlalchemy.engine.Engine SELECT protein.id AS protein_id, protein.string_protein_id AS protein_string_protein_id, protein.\"uniprot_AC\" AS \"protein_uniprot_AC\" \n",
      "FROM protein \n",
      "WHERE protein.string_protein_id = ?\n",
      " LIMIT ? OFFSET ?\n",
      "2024-03-26 09:51:19,779 INFO sqlalchemy.engine.Engine [generated in 0.00047s] ('3750.A0A076JVE4', 1, 0)\n",
      "2024-03-26 09:51:19,780 INFO sqlalchemy.engine.Engine SELECT protein.id AS protein_id, protein.string_protein_id AS protein_string_protein_id, protein.\"uniprot_AC\" AS \"protein_uniprot_AC\" \n",
      "FROM protein \n",
      "WHERE protein.string_protein_id = ?\n",
      " LIMIT ? OFFSET ?\n",
      "2024-03-26 09:51:19,780 INFO sqlalchemy.engine.Engine [cached since 0.00152s ago] ('3750.A0A097IC86', 1, 0)\n",
      "2024-03-26 09:51:19,781 INFO sqlalchemy.engine.Engine INSERT INTO interaction (protein1, protein2, neighborhood, cooccurence, homology, coexpression, combined_score) VALUES (?, ?, ?, ?, ?, ?, ?)\n",
      "2024-03-26 09:51:19,781 INFO sqlalchemy.engine.Engine [generated in 0.00034s] (3, 6, 0, 0, 0, 0, 174)\n",
      "2024-03-26 09:51:19,783 INFO sqlalchemy.engine.Engine SELECT protein.id AS protein_id, protein.string_protein_id AS protein_string_protein_id, protein.\"uniprot_AC\" AS \"protein_uniprot_AC\" \n",
      "FROM protein \n",
      "WHERE protein.string_protein_id = ?\n",
      " LIMIT ? OFFSET ?\n",
      "2024-03-26 09:51:19,783 INFO sqlalchemy.engine.Engine [cached since 0.004455s ago] ('3750.A0A097IC86', 1, 0)\n",
      "2024-03-26 09:51:19,784 INFO sqlalchemy.engine.Engine SELECT protein.id AS protein_id, protein.string_protein_id AS protein_string_protein_id, protein.\"uniprot_AC\" AS \"protein_uniprot_AC\" \n",
      "FROM protein \n",
      "WHERE protein.string_protein_id = ?\n",
      " LIMIT ? OFFSET ?\n",
      "2024-03-26 09:51:19,784 INFO sqlalchemy.engine.Engine [cached since 0.005397s ago] ('3750.A0A0M3R7K5', 1, 0)\n",
      "2024-03-26 09:51:19,784 INFO sqlalchemy.engine.Engine INSERT INTO interaction (protein1, protein2, neighborhood, cooccurence, homology, coexpression, combined_score) VALUES (?, ?, ?, ?, ?, ?, ?)\n",
      "2024-03-26 09:51:19,785 INFO sqlalchemy.engine.Engine [cached since 0.003576s ago] (6, 9, 0, 177, 595, 0, 213)\n",
      "2024-03-26 09:51:19,785 INFO sqlalchemy.engine.Engine COMMIT\n"
     ]
    },
    {
     "name": "stderr",
     "output_type": "stream",
     "text": [
      "\n"
     ]
    }
   ],
   "source": [
    "db = Database(\"../tests/data/stringdb.sqlite\")\n",
    "db.recreate_database()\n",
    "db.add_data(\"../tests/data\")"
   ]
  },
  {
   "cell_type": "markdown",
   "metadata": {},
   "source": [
    "## Filter Data"
   ]
  },
  {
   "cell_type": "code",
   "execution_count": 4,
   "metadata": {},
   "outputs": [
    {
     "name": "stdout",
     "output_type": "stream",
     "text": [
      "2024-03-26 09:51:44,219 INFO sqlalchemy.engine.Engine BEGIN (implicit)\n",
      "2024-03-26 09:51:44,221 INFO sqlalchemy.engine.Engine SELECT interaction.id, interaction.protein1, interaction.protein2, interaction.neighborhood, interaction.cooccurence, interaction.homology, interaction.coexpression, interaction.combined_score \n",
      "FROM interaction \n",
      "WHERE interaction.combined_score >= ? AND interaction.homology >= ? AND interaction.coexpression >= ? AND interaction.cooccurence >= ? AND interaction.neighborhood >= ?\n",
      "2024-03-26 09:51:44,221 INFO sqlalchemy.engine.Engine [cached since 15.33s ago] (200, 0, 0, 0, 0)\n",
      "2024-03-26 09:51:44,223 INFO sqlalchemy.engine.Engine SELECT protein.\"uniprot_AC\" \n",
      "FROM protein \n",
      "WHERE protein.id = ?\n",
      "2024-03-26 09:51:44,223 INFO sqlalchemy.engine.Engine [cached since 15.33s ago] (6,)\n",
      "2024-03-26 09:51:44,224 INFO sqlalchemy.engine.Engine SELECT protein.\"uniprot_AC\" \n",
      "FROM protein \n",
      "WHERE protein.id = ?\n",
      "2024-03-26 09:51:44,224 INFO sqlalchemy.engine.Engine [cached since 15.33s ago] (9,)\n"
     ]
    }
   ],
   "source": [
    "lst = db.filter_data(combined_score_thre=200)"
   ]
  },
  {
   "cell_type": "code",
   "execution_count": 5,
   "metadata": {},
   "outputs": [
    {
     "data": {
      "text/plain": [
       "1"
      ]
     },
     "execution_count": 5,
     "metadata": {},
     "output_type": "execute_result"
    }
   ],
   "source": [
    "len(lst)"
   ]
  },
  {
   "cell_type": "code",
   "execution_count": 6,
   "metadata": {},
   "outputs": [
    {
     "data": {
      "text/plain": [
       "{'interaction_id': 2,\n",
       " 'coexpression': 0,\n",
       " 'neighborhood': 0,\n",
       " 'cooccurence': 177,\n",
       " 'homology': 595,\n",
       " 'combined_score': 213,\n",
       " 'protein_AC_1': 'A0A097IC86',\n",
       " 'protein_AC_2': 'A0A0M3R7K5'}"
      ]
     },
     "execution_count": 6,
     "metadata": {},
     "output_type": "execute_result"
    }
   ],
   "source": [
    "lst[0]"
   ]
  },
  {
   "cell_type": "code",
   "execution_count": null,
   "metadata": {},
   "outputs": [],
   "source": []
  }
 ],
 "metadata": {
  "kernelspec": {
   "display_name": ".venv",
   "language": "python",
   "name": "python3"
  },
  "language_info": {
   "codemirror_mode": {
    "name": "ipython",
    "version": 3
   },
   "file_extension": ".py",
   "mimetype": "text/x-python",
   "name": "python",
   "nbconvert_exporter": "python",
   "pygments_lexer": "ipython3",
   "version": "3.11.6"
  }
 },
 "nbformat": 4,
 "nbformat_minor": 2
}
